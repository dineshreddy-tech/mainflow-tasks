{
 "cells": [
  {
   "cell_type": "code",
   "execution_count": 1,
   "id": "77c937a0-c041-4f6e-abbd-0f17356e46ee",
   "metadata": {},
   "outputs": [
    {
     "name": "stdout",
     "output_type": "stream",
     "text": [
      "The missing number is: 3\n"
     ]
    }
   ],
   "source": [
    "#25 # Find Missing Number\n",
    "def find_missing_number(nums):\n",
    "    n = len(nums)\n",
    "    expected_sum = (n + 1) * (n + 2) // 2\n",
    "    actual_sum = sum(nums)\n",
    "    return expected_sum - actual_sum\n",
    "nums = [1, 2, 4, 5, 6]  \n",
    "missing_number = find_missing_number(nums)\n",
    "print(f\"The missing number is: {missing_number}\")\n"
   ]
  },
  {
   "cell_type": "code",
   "execution_count": 3,
   "id": "0ba04ede-3075-4d03-b94c-53aad9b44a70",
   "metadata": {},
   "outputs": [
    {
     "name": "stdout",
     "output_type": "stream",
     "text": [
      "True\n",
      "False\n",
      "True\n"
     ]
    }
   ],
   "source": [
    "#26 #Check Balanced Parenthesis\n",
    "def is_balanced_parentheses(s):\n",
    "    matching_parentheses = {')': '(', '}': '{', ']': '['}\n",
    "    stack = []\n",
    "    for char in s:\n",
    "        if char in matching_parentheses.values():\n",
    "            stack.append(char)\n",
    "        elif char in matching_parentheses.keys():\n",
    "            if stack and stack[-1] == matching_parentheses[char]:\n",
    "                stack.pop() \n",
    "            else:\n",
    "                return False \n",
    "        else:\n",
    "            continue\n",
    "    return len(stack) == 0\n",
    "test_string = \"{[()]}\" \n",
    "print(is_balanced_parentheses(test_string))  \n",
    "\n",
    "test_string = \"{[(])}\" \n",
    "print(is_balanced_parentheses(test_string))  \n",
    "\n",
    "test_string = \"({[()]})\"  \n",
    "print(is_balanced_parentheses(test_string))  \n"
   ]
  },
  {
   "cell_type": "code",
   "execution_count": 7,
   "id": "038e00d7-5849-418b-bb1d-e56214e89dda",
   "metadata": {},
   "outputs": [
    {
     "name": "stdout",
     "output_type": "stream",
     "text": [
      "The longest word is: quick\n"
     ]
    }
   ],
   "source": [
    "#27 #Longest Word in a Sentence\n",
    "def find_longest_word(sentence):\n",
    "    words = sentence.split()\n",
    "    longest_word = max(words, key=len)\n",
    "    return longest_word\n",
    "sentence = \"The quick brown fox jumps over the lazy dog\"\n",
    "longest_word = find_longest_word(sentence)\n",
    "print(f\"The longest word is: {longest_word}\")\n"
   ]
  },
  {
   "cell_type": "code",
   "execution_count": 9,
   "id": "c922b532-4931-4faf-b9b6-4c43f1efd259",
   "metadata": {},
   "outputs": [
    {
     "name": "stdout",
     "output_type": "stream",
     "text": [
      "The number of words is: 9\n"
     ]
    }
   ],
   "source": [
    "#28 #Count Words In a Sentence\n",
    "def count_words(sentence):\n",
    "    words = sentence.split()\n",
    "    return len(words)\n",
    "sentence = \"The quick brown fox jumps over the lazy dog\"\n",
    "word_count = count_words(sentence)\n",
    "print(f\"The number of words is: {word_count}\")\n"
   ]
  },
  {
   "cell_type": "code",
   "execution_count": 11,
   "id": "ad6e30d0-2e1e-4e75-9d81-7ed2498ebd79",
   "metadata": {},
   "outputs": [
    {
     "name": "stdout",
     "output_type": "stream",
     "text": [
      "True\n",
      "True\n",
      "False\n"
     ]
    }
   ],
   "source": [
    "#29 #Check Pythagorean Triplet\n",
    "def is_pythagorean_triplet(a, b, c):\n",
    "    a, b, c = sorted([a, b, c])\n",
    "    return a**2 + b**2 == c**2\n",
    "print(is_pythagorean_triplet(3, 4, 5))  \n",
    "print(is_pythagorean_triplet(5, 12, 13))  \n",
    "print(is_pythagorean_triplet(1, 2, 3)) \n"
   ]
  },
  {
   "cell_type": "code",
   "execution_count": 13,
   "id": "6ab9ee83-e4ad-43ce-96df-5bffb1fbf55b",
   "metadata": {},
   "outputs": [
    {
     "name": "stdout",
     "output_type": "stream",
     "text": [
      "Sorted list: [11, 12, 22, 25, 34, 64, 90]\n"
     ]
    }
   ],
   "source": [
    "#30 #Bubble Sort\n",
    "def bubble_sort(nums):\n",
    "    n = len(nums)\n",
    "    for i in range(n - 1):\n",
    "        for j in range(n - i - 1):\n",
    "            if nums[j] > nums[j + 1]:\n",
    "                nums[j], nums[j + 1] = nums[j + 1], nums[j]\n",
    "    return nums\n",
    "nums = [64, 34, 25, 12, 22, 11, 90]\n",
    "sorted_nums = bubble_sort(nums)\n",
    "print(f\"Sorted list: {sorted_nums}\")\n",
    "\n"
   ]
  },
  {
   "cell_type": "code",
   "execution_count": 15,
   "id": "abd30d87-1e22-4197-a695-ac80aa250679",
   "metadata": {},
   "outputs": [
    {
     "name": "stdout",
     "output_type": "stream",
     "text": [
      "Target found at index: 3\n"
     ]
    }
   ],
   "source": [
    "#31 #Binary Search\n",
    "def binary_search(nums, target):\n",
    "    left, right = 0, len(nums) - 1\n",
    "    \n",
    "    while left <= right:\n",
    "        mid = left + (right - left) // 2\n",
    "        if nums[mid] == target:\n",
    "            return mid\n",
    "        elif nums[mid] > target:\n",
    "            right = mid - 1\n",
    "        else:\n",
    "            left = mid + 1\n",
    "    return -1\n",
    "nums = [1, 3, 5, 7, 9, 11, 13]\n",
    "target = 7\n",
    "index = binary_search(nums, target)\n",
    "print(f\"Target found at index: {index}\")  \n"
   ]
  },
  {
   "cell_type": "code",
   "execution_count": 17,
   "id": "99cfe3fe-9068-4f5a-99b1-069b8571a35c",
   "metadata": {},
   "outputs": [
    {
     "name": "stdout",
     "output_type": "stream",
     "text": [
      "Subarray indices: (1, 3)\n"
     ]
    }
   ],
   "source": [
    "#32 #Find Subarray With Given Sum\n",
    "def find_subarray_with_sum_prefix(nums, target):\n",
    "    prefix_sum = {0: -1} \n",
    "    current_sum = 0\n",
    "    \n",
    "    for i, num in enumerate(nums):\n",
    "        current_sum += num\n",
    "        if (current_sum - target) in prefix_sum:\n",
    "            return (prefix_sum[current_sum - target] + 1, i)\n",
    "        prefix_sum[current_sum] = i\n",
    "    \n",
    "    return -1\n",
    "nums = [1, 2, 3, 7, 5]\n",
    "target = 12\n",
    "result = find_subarray_with_sum_prefix(nums, target)\n",
    "print(f\"Subarray indices: {result}\")  # Output: (1, 3)\n"
   ]
  },
  {
   "cell_type": "code",
   "execution_count": 33,
   "id": "be0315f1-357e-47bb-8840-7aa81137451d",
   "metadata": {},
   "outputs": [
    {
     "name": "stdout",
     "output_type": "stream",
     "text": [
      "\n",
      "Log Analysis Insights:\n",
      "\n",
      "Top 5 Most Frequent IP Addresses:\n",
      "192.168.1.1: 3 times\n",
      "192.168.1.2: 1 times\n",
      "10.0.0.1: 1 times\n",
      "\n",
      "Top 5 Most Common Response Codes:\n",
      "200: 4 times\n",
      "404: 1 times\n",
      "\n",
      "Top 5 Most Accessed URLs:\n",
      "/index.html: 3 times\n",
      "/api/data: 1 times\n",
      "/about.html: 1 times\n"
     ]
    }
   ],
   "source": [
    "#4 #Log Analysis System\n",
    "import os\n",
    "from collections import Counter\n",
    "sample_log_data = \"\"\"192.168.1.1 - - [22/Jan/2025:10:30:00 +0000] \"GET /index.html HTTP/1.1\" 200 1234\n",
    "192.168.1.2 - - [22/Jan/2025:10:31:00 +0000] \"POST /api/data HTTP/1.1\" 404 5678\n",
    "192.168.1.1 - - [22/Jan/2025:10:32:00 +0000] \"GET /about.html HTTP/1.1\" 200 1234\n",
    "10.0.0.1 - - [22/Jan/2025:10:33:00 +0000] \"GET /index.html HTTP/1.1\" 200 1234\n",
    "192.168.1.1 - - [22/Jan/2025:10:34:00 +0000] \"GET /index.html HTTP/1.1\" 200 1234\n",
    "\"\"\"\n",
    "log_file_path = \"webserver.log\"\n",
    "with open(log_file_path, \"w\") as file:\n",
    "    file.write(sample_log_data)\n",
    "def parse_log(file_path):\n",
    "    \"\"\"\n",
    "    Parse a log file and extract insights: most frequent IPs, response codes, and URLs.\n",
    "    \"\"\"\n",
    "    if not os.path.exists(file_path):\n",
    "        raise FileNotFoundError(f\"Log file not found: {file_path}\")\n",
    "    \n",
    "    if os.path.getsize(file_path) > 100 * 1024 * 1024:  # 100 MB limit\n",
    "        raise ValueError(\"File size exceeds 100 MB limit.\")\n",
    "    \n",
    "    ip_counter = Counter()\n",
    "    response_code_counter = Counter()\n",
    "    url_counter = Counter()\n",
    "\n",
    "    try:\n",
    "        with open(file_path, 'r') as log_file:\n",
    "            for line in log_file:\n",
    "                parts = line.split()\n",
    "                if len(parts) < 9:\n",
    "                    continue \n",
    "                \n",
    "                ip = parts[0]\n",
    "                response_code = parts[-2]\n",
    "                url = parts[6]\n",
    "\n",
    "                # Increment counters\n",
    "                ip_counter[ip] += 1\n",
    "                response_code_counter[response_code] += 1\n",
    "                url_counter[url] += 1\n",
    "\n",
    "        return {\n",
    "            \"most_frequent_ips\": ip_counter.most_common(5),\n",
    "            \"most_common_response_codes\": response_code_counter.most_common(5),\n",
    "            \"most_accessed_urls\": url_counter.most_common(5),\n",
    "        }\n",
    "\n",
    "    except Exception as e:\n",
    "        raise RuntimeError(f\"Error while processing log file: {e}\")\n",
    "\n",
    "def display_insights(insights):\n",
    "    \"\"\"\n",
    "    Display insights in a human-readable format.\n",
    "    \"\"\"\n",
    "    print(\"\\nLog Analysis Insights:\\n\")\n",
    "    \n",
    "    print(\"Top 5 Most Frequent IP Addresses:\")\n",
    "    for ip, count in insights[\"most_frequent_ips\"]:\n",
    "        print(f\"{ip}: {count} times\")\n",
    "    \n",
    "    print(\"\\nTop 5 Most Common Response Codes:\")\n",
    "    for code, count in insights[\"most_common_response_codes\"]:\n",
    "        print(f\"{code}: {count} times\")\n",
    "    \n",
    "    print(\"\\nTop 5 Most Accessed URLs:\")\n",
    "    for url, count in insights[\"most_accessed_urls\"]:\n",
    "        print(f\"{url}: {count} times\")\n",
    "if __name__ == \"__main__\":\n",
    "    try:\n",
    "        insights = parse_log(log_file_path)\n",
    "        display_insights(insights)\n",
    "    except Exception as e:\n",
    "        print(f\"Error: {e}\")\n",
    "\n"
   ]
  },
  {
   "cell_type": "code",
   "execution_count": null,
   "id": "7d5f04d3-946c-4e57-a4b0-ca3e191ffc96",
   "metadata": {},
   "outputs": [],
   "source": []
  }
 ],
 "metadata": {
  "kernelspec": {
   "display_name": "Python [conda env:base] *",
   "language": "python",
   "name": "conda-base-py"
  },
  "language_info": {
   "codemirror_mode": {
    "name": "ipython",
    "version": 3
   },
   "file_extension": ".py",
   "mimetype": "text/x-python",
   "name": "python",
   "nbconvert_exporter": "python",
   "pygments_lexer": "ipython3",
   "version": "3.12.7"
  }
 },
 "nbformat": 4,
 "nbformat_minor": 5
}
