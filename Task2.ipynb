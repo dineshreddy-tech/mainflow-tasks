{
 "cells": [
  {
   "cell_type": "code",
   "execution_count": 1,
   "id": "cd85f4ad-95d3-4eec-abb1-be2baf894c40",
   "metadata": {},
   "outputs": [
    {
     "name": "stdout",
     "output_type": "stream",
     "text": [
      "Is 29 a prime number? True\n"
     ]
    }
   ],
   "source": [
    "#task9 #prime number\n",
    "def is_prime(n):\n",
    "    if n <= 1:\n",
    "        return False\n",
    "    if n <= 3:\n",
    "        return True  \n",
    "    if n % 2 == 0 or n % 3 == 0:\n",
    "        return False \n",
    "    i = 5\n",
    "    while i * i <= n:\n",
    "        if n % i == 0 or n % (i + 2) == 0:\n",
    "            return False\n",
    "        i += 6\n",
    "    return True\n",
    "\n",
    "number = 29\n",
    "print(f\"Is {number} a prime number? {is_prime(number)}\")\n"
   ]
  },
  {
   "cell_type": "code",
   "execution_count": 3,
   "id": "a67cd30f-5b97-484c-ad61-a233f1267556",
   "metadata": {},
   "outputs": [
    {
     "name": "stdout",
     "output_type": "stream",
     "text": [
      "The sum of the digits in 12345 is 15\n"
     ]
    }
   ],
   "source": [
    "#task 10 #sum of digits\n",
    "def sum_of_digits(n):\n",
    "    return sum(int(digit) for digit in str(abs(n)))\n",
    "number = 12345\n",
    "print(f\"The sum of the digits in {number} is {sum_of_digits(number)}\")\n"
   ]
  },
  {
   "cell_type": "code",
   "execution_count": 5,
   "id": "723d87bf-98de-4c39-879d-80fb233b5b5f",
   "metadata": {},
   "outputs": [
    {
     "name": "stdout",
     "output_type": "stream",
     "text": [
      "The LCM of 12 and 18 is 36\n",
      "The GCD of 12 and 18 is 6\n"
     ]
    }
   ],
   "source": [
    "#task 11 #LCM & GCD\n",
    "import math\n",
    "def lcm_and_gcd(a, b):\n",
    "    gcd = math.gcd(a, b)  \n",
    "    lcm = abs(a * b) // gcd  \n",
    "    return lcm, gcd\n",
    "a, b = 12, 18\n",
    "lcm, gcd = lcm_and_gcd(a, b)\n",
    "print(f\"The LCM of {a} and {b} is {lcm}\")\n",
    "print(f\"The GCD of {a} and {b} is {gcd}\")\n"
   ]
  },
  {
   "cell_type": "code",
   "execution_count": 7,
   "id": "8a8b3ee9-3722-4850-9f48-8d52566d5bc7",
   "metadata": {},
   "outputs": [
    {
     "name": "stdout",
     "output_type": "stream",
     "text": [
      "Original List: [5, 4, 3, 2, 1]\n",
      "Reversed List: [5, 4, 3, 2, 1]\n"
     ]
    }
   ],
   "source": [
    "#task 12 #List Reversal\n",
    "def reverse_list(lst):\n",
    "    n = len(lst)\n",
    "    for i in range(n // 2):\n",
    "        lst[i], lst[n - i - 1] = lst[n - i - 1], lst[i]\n",
    "    return lst\n",
    "original_list = [1, 2, 3, 4, 5]\n",
    "reversed_list = reverse_list(original_list)\n",
    "print(f\"Original List: {original_list}\")\n",
    "print(f\"Reversed List: {reversed_list}\")\n"
   ]
  },
  {
   "cell_type": "code",
   "execution_count": 9,
   "id": "26514c61-adbe-4268-99cb-30eb443dd6b5",
   "metadata": {},
   "outputs": [
    {
     "name": "stdout",
     "output_type": "stream",
     "text": [
      "Unsorted List: [11, 12, 22, 25, 34, 64, 90]\n",
      "Sorted List: [11, 12, 22, 25, 34, 64, 90]\n"
     ]
    }
   ],
   "source": [
    "#task 13 #sort a list\n",
    "def bubble_sort(lst):\n",
    "    n = len(lst)\n",
    "    for i in range(n):\n",
    "        for j in range(0, n - i - 1):\n",
    "            if lst[j] > lst[j + 1]:\n",
    "                lst[j], lst[j + 1] = lst[j + 1], lst[j]\n",
    "    return lst\n",
    "unsorted_list = [64, 34, 25, 12, 22, 11, 90]\n",
    "sorted_list = bubble_sort(unsorted_list)\n",
    "print(f\"Unsorted List: {unsorted_list}\")\n",
    "print(f\"Sorted List: {sorted_list}\")\n"
   ]
  },
  {
   "cell_type": "code",
   "execution_count": 11,
   "id": "f5acf85e-3627-400e-b6a7-e463698d15dc",
   "metadata": {},
   "outputs": [
    {
     "name": "stdout",
     "output_type": "stream",
     "text": [
      "Original List: [1, 2, 2, 3, 4, 4, 5]\n",
      "Unique List: [1, 2, 3, 4, 5]\n"
     ]
    }
   ],
   "source": [
    "#task 14 #Remove Duplicates\n",
    "def remove_duplicates(lst):\n",
    "    unique_list = []\n",
    "    for item in lst:\n",
    "        if item not in unique_list:\n",
    "            unique_list.append(item)\n",
    "    return unique_list\n",
    "original_list = [1, 2, 2, 3, 4, 4, 5]\n",
    "unique_list = remove_duplicates(original_list)\n",
    "print(f\"Original List: {original_list}\")\n",
    "print(f\"Unique List: {unique_list}\")\n"
   ]
  },
  {
   "cell_type": "code",
   "execution_count": 13,
   "id": "29fdc160-46bc-4f06-9843-a1d2c6a77b9e",
   "metadata": {},
   "outputs": [
    {
     "name": "stdout",
     "output_type": "stream",
     "text": [
      "The length of the string 'Hello, World!' is 13\n"
     ]
    }
   ],
   "source": [
    "#task 15 #String Length\n",
    "def string_length(s):\n",
    "    count = 0\n",
    "    for char in s:\n",
    "        count += 1\n",
    "    return count\n",
    "input_string = \"Hello, World!\"\n",
    "length = string_length(input_string)\n",
    "print(f\"The length of the string '{input_string}' is {length}\")\n"
   ]
  },
  {
   "cell_type": "code",
   "execution_count": 15,
   "id": "0ceb0109-f470-456a-882c-1e26b5d5fa70",
   "metadata": {},
   "outputs": [
    {
     "name": "stdout",
     "output_type": "stream",
     "text": [
      "The string 'Hello, World!' has 3 vowels and 7 consonants.\n"
     ]
    }
   ],
   "source": [
    "#task 16 #Count Vowels and Consonents\n",
    "def count_vowels_and_consonants(s):\n",
    "    vowels = set(\"aeiouAEIOU\")\n",
    "    vowel_count = 0\n",
    "    consonant_count = 0\n",
    "\n",
    "    for char in s:\n",
    "        if char.isalpha(): \n",
    "            if char in vowels:\n",
    "                vowel_count += 1\n",
    "            else:\n",
    "                consonant_count += 1\n",
    "\n",
    "    return vowel_count, consonant_count\n",
    "input_string = \"Hello, World!\"\n",
    "vowels, consonants = count_vowels_and_consonants(input_string)\n",
    "print(f\"The string '{input_string}' has {vowels} vowels and {consonants} consonants.\")\n"
   ]
  },
  {
   "cell_type": "code",
   "execution_count": 19,
   "id": "01ad6856-d9a9-4624-8a0e-de7bf5484dbe",
   "metadata": {},
   "outputs": [
    {
     "name": "stdout",
     "output_type": "stream",
     "text": [
      "Generated Maze:\n",
      "# #############\n",
      "# #     #     #\n",
      "# ### # ##### #\n",
      "#   # #       #\n",
      "### # ####### #\n",
      "# #   # #     #\n",
      "# ##### # #####\n",
      "#       #     #\n",
      "# ##### ##### #\n",
      "# #   #     # #\n",
      "# # ### ### # #\n",
      "# #   #   # # #\n",
      "# ### ### ### #\n",
      "#       #     #\n",
      "############# #\n"
     ]
    }
   ],
   "source": [
    "#2 #Maze Generator & Solver\n",
    "import random\n",
    "\n",
    "def generate_maze(rows, cols):\n",
    "    maze = [[1 for _ in range(cols)] for _ in range(rows)]\n",
    "    \n",
    "    def is_valid(x, y):\n",
    "        return 0 < x < rows - 1 and 0 < y < cols - 1\n",
    "    \n",
    "    def carve(x, y):\n",
    "        maze[x][y] = 0\n",
    "        directions = [(0, 2), (2, 0), (0, -2), (-2, 0)]\n",
    "        random.shuffle(directions)\n",
    "        for dx, dy in directions:\n",
    "            nx, ny = x + dx, y + dy\n",
    "            if is_valid(nx, ny) and maze[nx][ny] == 1:\n",
    "                maze[x + dx // 2][y + dy // 2] = 0  # Remove wall\n",
    "                carve(nx, ny)\n",
    "\n",
    "    carve(1, 1)  # Start carving from (1, 1)\n",
    "    maze[0][1] = 0  # Entrance\n",
    "    maze[rows - 1][cols - 2] = 0  # Exit\n",
    "    return maze\n",
    "\n",
    "def display_maze(maze):\n",
    "    for row in maze:\n",
    "        print(\"\".join(\"#\" if cell == 1 else \" \" for cell in row))\n",
    "\n",
    "if __name__ == \"__main__\":\n",
    "    rows, cols = 15, 15  # Maze dimensions\n",
    "    maze = generate_maze(rows, cols)\n",
    "    print(\"Generated Maze:\")\n",
    "    display_maze(maze)\n"
   ]
  },
  {
   "cell_type": "code",
   "execution_count": null,
   "id": "07102b93-23a3-4b42-bdb3-f97a5d1fec4a",
   "metadata": {},
   "outputs": [],
   "source": []
  }
 ],
 "metadata": {
  "kernelspec": {
   "display_name": "Python [conda env:base] *",
   "language": "python",
   "name": "conda-base-py"
  },
  "language_info": {
   "codemirror_mode": {
    "name": "ipython",
    "version": 3
   },
   "file_extension": ".py",
   "mimetype": "text/x-python",
   "name": "python",
   "nbconvert_exporter": "python",
   "pygments_lexer": "ipython3",
   "version": "3.12.7"
  }
 },
 "nbformat": 4,
 "nbformat_minor": 5
}
