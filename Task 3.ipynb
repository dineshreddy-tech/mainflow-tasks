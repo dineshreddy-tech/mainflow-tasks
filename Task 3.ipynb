{
 "cells": [
  {
   "cell_type": "code",
   "execution_count": 1,
   "id": "48809678-6a23-416d-85d8-763fe2a001fd",
   "metadata": {},
   "outputs": [
    {
     "name": "stdin",
     "output_type": "stream",
     "text": [
      "Enter a number to generate its multiplication table:  5\n"
     ]
    },
    {
     "name": "stdout",
     "output_type": "stream",
     "text": [
      "Multiplication table for 5:\n",
      "5 x 1 = 5\n",
      "5 x 2 = 10\n",
      "5 x 3 = 15\n",
      "5 x 4 = 20\n",
      "5 x 5 = 25\n",
      "5 x 6 = 30\n",
      "5 x 7 = 35\n",
      "5 x 8 = 40\n",
      "5 x 9 = 45\n",
      "5 x 10 = 50\n"
     ]
    }
   ],
   "source": [
    "#17 #Table of a Number\n",
    "n = int(input(\"Enter a number to generate its multiplication table: \"))\n",
    "print(f\"Multiplication table for {n}:\")\n",
    "for i in range(1, 11):\n",
    "    print(f\"{n} x {i} = {n * i}\")\n"
   ]
  },
  {
   "cell_type": "code",
   "execution_count": 3,
   "id": "5163e519-c8ac-404f-a186-8792f9671e86",
   "metadata": {},
   "outputs": [
    {
     "name": "stdin",
     "output_type": "stream",
     "text": [
      "Enter the first number (a):  5\n",
      "Enter the second number (b):  6\n"
     ]
    },
    {
     "name": "stdout",
     "output_type": "stream",
     "text": [
      "After swapping: a = 6, b = 5\n"
     ]
    }
   ],
   "source": [
    "#18 #Swap two Numbers\n",
    "a = int(input(\"Enter the first number (a): \"))\n",
    "b = int(input(\"Enter the second number (b): \"))\n",
    "a = a + b\n",
    "b = a - b\n",
    "a = a - b\n",
    "print(f\"After swapping: a = {a}, b = {b}\")\n"
   ]
  },
  {
   "cell_type": "code",
   "execution_count": 5,
   "id": "acdc7ea9-56e1-4a4a-aa93-7d5aa5852cb2",
   "metadata": {},
   "outputs": [
    {
     "name": "stdin",
     "output_type": "stream",
     "text": [
      "Enter the main string (s1):  hello\n",
      "Enter the substring (s2):  world\n"
     ]
    },
    {
     "name": "stdout",
     "output_type": "stream",
     "text": [
      "False\n"
     ]
    }
   ],
   "source": [
    "#19 #Check Substring\n",
    "s1 = input(\"Enter the main string (s1): \")\n",
    "s2 = input(\"Enter the substring (s2): \")\n",
    "is_substring = s2 in s1\n",
    "print(is_substring)\n"
   ]
  },
  {
   "cell_type": "code",
   "execution_count": 11,
   "id": "bec95b2d-2152-4e24-86c2-5a3f43814882",
   "metadata": {},
   "outputs": [
    {
     "name": "stdin",
     "output_type": "stream",
     "text": [
      "Enter a decimal number:  10\n"
     ]
    },
    {
     "name": "stdout",
     "output_type": "stream",
     "text": [
      "Binary representation of 10: 1010\n"
     ]
    }
   ],
   "source": [
    "#20 #Decimal to Binary\n",
    "n = int(input(\"Enter a decimal number: \"))\n",
    "binary_representation = bin(n)[2:]\n",
    "print(f\"Binary representation of {n}: {binary_representation}\")\n"
   ]
  },
  {
   "cell_type": "code",
   "execution_count": 19,
   "id": "75049fd4-39c8-4ddd-ba27-cc3f3520bc97",
   "metadata": {},
   "outputs": [
    {
     "name": "stdout",
     "output_type": "stream",
     "text": [
      "Sum of the matrices:\n",
      "[10, 10, 10]\n",
      "[10, 10, 10]\n",
      "[10, 10, 10]\n"
     ]
    }
   ],
   "source": [
    "#21 #Matrix Addition\n",
    "matrix1 = [\n",
    "    [1, 2, 3],\n",
    "    [4, 5, 6],\n",
    "    [7, 8, 9]\n",
    "]\n",
    "\n",
    "matrix2 = [\n",
    "    [9, 8, 7],\n",
    "    [6, 5, 4],\n",
    "    [3, 2, 1]\n",
    "]\n",
    "\n",
    "if len(matrix1) != len(matrix2) or len(matrix1[0]) != len(matrix2[0]):\n",
    "    print(\"Error: Matrices must have the same dimensions.\")\n",
    "else:\n",
    "\n",
    "    result = []\n",
    "    for i in range(len(matrix1)):  \n",
    "        row = []\n",
    "        for j in range(len(matrix1[0])):  \n",
    "            row.append(matrix1[i][j] + matrix2[i][j]) \n",
    "        result.append(row)\n",
    "    print(\"Sum of the matrices:\")\n",
    "    for row in result:\n",
    "        print(row)\n"
   ]
  },
  {
   "cell_type": "code",
   "execution_count": 21,
   "id": "523e5e08-7ca5-4c30-b6a3-b6f4ef722d4a",
   "metadata": {},
   "outputs": [
    {
     "name": "stdout",
     "output_type": "stream",
     "text": [
      "Product of the matrices:\n",
      "[58, 64]\n",
      "[139, 154]\n"
     ]
    }
   ],
   "source": [
    "#22 #Matrix Multiplication\n",
    "A = [\n",
    "    [1, 2, 3],\n",
    "    [4, 5, 6]\n",
    "]\n",
    "\n",
    "B = [\n",
    "    [7, 8],\n",
    "    [9, 10],\n",
    "    [11, 12]\n",
    "]\n",
    "if len(A[0]) != len(B):\n",
    "    print(\"Error: The number of columns in A must equal the number of rows in B.\")\n",
    "else:\n",
    "    result = [[0 for _ in range(len(B[0]))] for _ in range(len(A))]\n",
    "    for i in range(len(A)): \n",
    "        for j in range(len(B[0])):  \n",
    "            for k in range(len(B)): \n",
    "                result[i][j] += A[i][k] * B[k][j]  \n",
    "    print(\"Product of the matrices:\")\n",
    "    for row in result:\n",
    "        print(row)\n"
   ]
  },
  {
   "cell_type": "code",
   "execution_count": 23,
   "id": "fe647fe4-148e-4cff-8348-0cc7ef13e439",
   "metadata": {},
   "outputs": [
    {
     "name": "stdin",
     "output_type": "stream",
     "text": [
      "Enter the numbers separated by space:  5 6\n"
     ]
    },
    {
     "name": "stdout",
     "output_type": "stream",
     "text": [
      "The second largest number is: 5\n"
     ]
    }
   ],
   "source": [
    "#23 # Find Second Largest\n",
    "numbers = list(map(int, input(\"Enter the numbers separated by space: \").split()))\n",
    "\n",
    "if len(numbers) < 2:\n",
    "    print(\"Error: At least two numbers are required.\")\n",
    "else:\n",
    "    sorted_numbers = sorted(numbers, reverse=True)\n",
    "    second_largest = None\n",
    "    for num in sorted_numbers:\n",
    "        if num != sorted_numbers[0]:\n",
    "            second_largest = num\n",
    "            break\n",
    "\n",
    "    if second_largest is not None:\n",
    "        print(f\"The second largest number is: {second_largest}\")\n",
    "    else:\n",
    "        print(\"Error: No second largest number found (all elements are equal).\")\n"
   ]
  },
  {
   "cell_type": "code",
   "execution_count": 25,
   "id": "f44aa371-94b3-48f5-8359-4cc3c1e6cbb7",
   "metadata": {},
   "outputs": [
    {
     "name": "stdin",
     "output_type": "stream",
     "text": [
      "Enter the first string:  hello\n",
      "Enter the second string:  moon!\n"
     ]
    },
    {
     "name": "stdout",
     "output_type": "stream",
     "text": [
      "False (The strings are not anagrams)\n"
     ]
    }
   ],
   "source": [
    "#24 # Check Anagram\n",
    "str1 = input(\"Enter the first string: \").lower()\n",
    "str2 = input(\"Enter the second string: \").lower()\n",
    "if sorted(str1) == sorted(str2):\n",
    "    print(\"True (The strings are anagrams)\")\n",
    "else:\n",
    "    print(\"False (The strings are not anagrams)\")\n"
   ]
  },
  {
   "cell_type": "code",
   "execution_count": null,
   "id": "323b4eff-0dbe-4d93-a5a4-2ec2d7644174",
   "metadata": {},
   "outputs": [
    {
     "name": "stdout",
     "output_type": "stream",
     "text": [
      "Welcome to Tic-Tac-Toe!\n",
      "You are 'X', and the AI is 'O'.\n",
      "- | - | -\n",
      "- | - | -\n",
      "- | - | -\n",
      "\n"
     ]
    },
    {
     "name": "stdin",
     "output_type": "stream",
     "text": [
      "Enter your move (row and column, e.g., 1 2):  1 2\n"
     ]
    },
    {
     "name": "stdout",
     "output_type": "stream",
     "text": [
      "- | - | -\n",
      "- | - | X\n",
      "- | - | -\n",
      "\n",
      "AI is making its move...\n",
      "- | - | O\n",
      "- | - | X\n",
      "- | - | -\n",
      "\n"
     ]
    },
    {
     "name": "stdin",
     "output_type": "stream",
     "text": [
      "Enter your move (row and column, e.g., 1 2):  1 2\n"
     ]
    },
    {
     "name": "stdout",
     "output_type": "stream",
     "text": [
      "Invalid move. Try again.\n"
     ]
    },
    {
     "name": "stdin",
     "output_type": "stream",
     "text": [
      "Enter your move (row and column, e.g., 1 2):  2 1\n"
     ]
    },
    {
     "name": "stdout",
     "output_type": "stream",
     "text": [
      "- | - | O\n",
      "- | - | X\n",
      "- | X | -\n",
      "\n",
      "AI is making its move...\n",
      "O | - | O\n",
      "- | - | X\n",
      "- | X | -\n",
      "\n"
     ]
    },
    {
     "name": "stdin",
     "output_type": "stream",
     "text": [
      "Enter your move (row and column, e.g., 1 2):  2 1\n"
     ]
    },
    {
     "name": "stdout",
     "output_type": "stream",
     "text": [
      "Invalid move. Try again.\n"
     ]
    }
   ],
   "source": [
    "##3 #AI based Tic-Tac-Toe\n",
    "import math\n",
    "def print_board(board):\n",
    "    for row in board:\n",
    "        print(\" | \".join(row))\n",
    "    print()\n",
    "def check_winner(board):\n",
    "    for i in range(3):\n",
    "        if board[i][0] == board[i][1] == board[i][2] and board[i][0] != '-':\n",
    "            return board[i][0]\n",
    "        if board[0][i] == board[1][i] == board[2][i] and board[0][i] != '-':\n",
    "            return board[0][i]\n",
    "    if board[0][0] == board[1][1] == board[2][2] and board[0][0] != '-':\n",
    "        return board[0][0]\n",
    "    if board[0][2] == board[1][1] == board[2][0] and board[0][2] != '-':\n",
    "        return board[0][2]\n",
    "    return None\n",
    "def is_full(board):\n",
    "    return all(cell != '-' for row in board for cell in row)\n",
    "def minimax(board, depth, is_ai_turn):\n",
    "    winner = check_winner(board)\n",
    "    if winner == 'O':  \n",
    "        return 1\n",
    "    elif winner == 'X': \n",
    "        return -1\n",
    "    elif is_full(board): \n",
    "        return 0\n",
    "\n",
    "    if is_ai_turn:\n",
    "        max_eval = -math.inf\n",
    "        for i in range(3):\n",
    "            for j in range(3):\n",
    "                if board[i][j] == '-':\n",
    "                    board[i][j] = 'O'\n",
    "                    eval = minimax(board, depth + 1, False)\n",
    "                    board[i][j] = '-'\n",
    "                    max_eval = max(max_eval, eval)\n",
    "        return max_eval\n",
    "    else:\n",
    "        min_eval = math.inf\n",
    "        for i in range(3):\n",
    "            for j in range(3):\n",
    "                if board[i][j] == '-':\n",
    "                    board[i][j] = 'X'\n",
    "                    eval = minimax(board, depth + 1, True)\n",
    "                    board[i][j] = '-'\n",
    "                    min_eval = min(min_eval, eval)\n",
    "        return min_eval\n",
    "\n",
    "def find_best_move(board):\n",
    "    best_score = -math.inf\n",
    "    best_move = None\n",
    "    for i in range(3):\n",
    "        for j in range(3):\n",
    "            if board[i][j] == '-':\n",
    "                board[i][j] = 'O'\n",
    "                score = minimax(board, 0, False)\n",
    "                board[i][j] = '-'\n",
    "                if score > best_score:\n",
    "                    best_score = score\n",
    "                    best_move = (i, j)\n",
    "    return best_move\n",
    "\n",
    "def play_game():\n",
    "    board = [['-' for _ in range(3)] for _ in range(3)]\n",
    "    print(\"Welcome to Tic-Tac-Toe!\")\n",
    "    print(\"You are 'X', and the AI is 'O'.\")\n",
    "    print_board(board)\n",
    "\n",
    "    while True:\n",
    "        user_move = input(\"Enter your move (row and column, e.g., 1 2): \")\n",
    "        row, col = map(int, user_move.split())\n",
    "        if board[row][col] != '-':\n",
    "            print(\"Invalid move. Try again.\")\n",
    "            continue\n",
    "        board[row][col] = 'X'\n",
    "        print_board(board)\n",
    "\n",
    "        if check_winner(board) == 'X':\n",
    "            print(\"Congratulations! You win!\")\n",
    "            break\n",
    "        if is_full(board):\n",
    "            print(\"It's a draw!\")\n",
    "            break\n",
    "        print(\"AI is making its move...\")\n",
    "        ai_move = find_best_move(board)\n",
    "        board[ai_move[0]][ai_move[1]] = 'O'\n",
    "        print_board(board)\n",
    "\n",
    "        if check_winner(board) == 'O':\n",
    "            print(\"AI wins! Better luck next time.\")\n",
    "            break\n",
    "        if is_full(board):\n",
    "            print(\"It's a draw!\")\n",
    "            break\n",
    "play_game()\n"
   ]
  },
  {
   "cell_type": "code",
   "execution_count": null,
   "id": "ffacc69e-c0f6-4d9b-b17e-b4feb3b9650a",
   "metadata": {},
   "outputs": [],
   "source": []
  }
 ],
 "metadata": {
  "kernelspec": {
   "display_name": "Python [conda env:base] *",
   "language": "python",
   "name": "conda-base-py"
  },
  "language_info": {
   "codemirror_mode": {
    "name": "ipython",
    "version": 3
   },
   "file_extension": ".py",
   "mimetype": "text/x-python",
   "name": "python",
   "nbconvert_exporter": "python",
   "pygments_lexer": "ipython3",
   "version": "3.12.7"
  }
 },
 "nbformat": 4,
 "nbformat_minor": 5
}
